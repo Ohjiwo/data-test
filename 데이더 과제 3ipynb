{
 "cells": [
  {
   "cell_type": "code",
   "execution_count": 1,
   "id": "db7ac357-7c92-4487-b90c-d453f22452e4",
   "metadata": {},
   "outputs": [
    {
     "name": "stdout",
     "output_type": "stream",
     "text": [
      "Average Haircut Price : 31.875\n",
      "[25, 20, 35, 15, 15, 30, 45, 30]\n",
      "Total Revenue: 1085\n",
      "155.0\n",
      "[25, 20, 15, 15]\n"
     ]
    }
   ],
   "source": [
    "hairstyles = [\"bouffant\", \"pixie\", \"dreadlocks\", \"crew\", \"bowl\", \"bob\", \"mohawk\", \"flattop\"]\n",
    "prices = [30, 25, 40, 20, 20, 35, 50, 35]\n",
    "last_week = [2, 3, 5, 8, 4, 4, 6, 2]\n",
    "\n",
    "total_price = 0\n",
    "for price in prices:\n",
    "  total_price += price\n",
    "average_price = total_price / len(prices)\n",
    "print(\"Average Haircut Price : \" + str(average_price))\n",
    "new_prices = [price -5 for price in  prices]\n",
    "print(new_prices)\n",
    "\n",
    "total_revenue = 0\n",
    "for i in range(len(hairstyles)):\n",
    "  total_revenue += (prices[i] * last_week[i])\n",
    "print(\"Total Revenue: \" + str(total_revenue))\n",
    "average_daily_revenue = total_revenue / 7\n",
    "print(average_daily_revenue)\n",
    "\n",
    "cuts_under_30 = [new_prices[i] for i in range(len(new_prices)-1) if new_prices[i] < 30]\n",
    "print(cuts_under_30)"
   ]
  }
 ],
 "metadata": {
  "kernelspec": {
   "display_name": "Python 3 (ipykernel)",
   "language": "python",
   "name": "python3"
  },
  "language_info": {
   "codemirror_mode": {
    "name": "ipython",
    "version": 3
   },
   "file_extension": ".py",
   "mimetype": "text/x-python",
   "name": "python",
   "nbconvert_exporter": "python",
   "pygments_lexer": "ipython3",
   "version": "3.9.12"
  }
 },
 "nbformat": 4,
 "nbformat_minor": 5
}
